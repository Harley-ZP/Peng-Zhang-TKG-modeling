{
 "cells": [
  {
   "cell_type": "code",
   "execution_count": 1,
   "metadata": {},
   "outputs": [],
   "source": [
    "f = open('train.txt','r')\n",
    "head2quad = {}\n",
    "time2quad = [None]*261\n",
    "relation2set = {}\n",
    "'''\n",
    "9.16 initial idea\n",
    "build projection from timestamps as index to triplet\n",
    "iterate each relation, for e1,A, e2, we search e2, B, e3\n",
    "'''\n",
    "t = 0\n",
    "for line in f.readlines():\n",
    "    quadruple = line.strip().split()\n",
    "    A,B,C,D = quadruple[0],quadruple[1],quadruple[2],quadruple[3]\n",
    "    if B not in relation2set.keys():\n",
    "        relation2set[quadruple[1]] = [quadruple[:3]]\n",
    "    else:\n",
    "        relation2set[quadruple[1]].append(quadruple[:3])\n",
    "    if A in head2quad.keys():\n",
    "        head2quad[quadruple[0]].append(quadruple[:3])\n",
    "    else:\n",
    "        head2quad[quadruple[0]] = [quadruple[:3]]\n",
    "\n",
    "\n",
    "#time2quad[int(quadruple[3])//24] = quadruple[:3]\n"
   ]
  },
  {
   "cell_type": "code",
   "execution_count": 2,
   "metadata": {},
   "outputs": [],
   "source": [
    "rules = {}\n",
    "for relation in relation2set.keys():\n",
    "    for fact in relation2set[relation]:\n",
    "        if fact[2] not in head2quad.keys():\n",
    "            continue\n",
    "        for tail in head2quad[fact[2]]:\n",
    "            #print(tyepe())\n",
    "            tup = (relation,tail[1])\n",
    "            if tup in rules.keys():\n",
    "                rules[tup]+=1\n",
    "            else:\n",
    "                rules[tup] = 1"
   ]
  },
  {
   "cell_type": "code",
   "execution_count": 9,
   "metadata": {},
   "outputs": [],
   "source": [
    "rules2 = []\n",
    "for item in rules.items():\n",
    "    if item[1]>6000:\n",
    "        rules2.append(item[0])\n"
   ]
  },
  {
   "cell_type": "code",
   "execution_count": null,
   "metadata": {},
   "outputs": [],
   "source": [
    "# \n",
    "rules_3 = {}\n",
    "for relation in relation2set.keys():\n",
    "    for fact in relation2set[relation]:\n",
    "        if fact[2] not in head2quad.keys():\n",
    "            continue\n",
    "        for tail in head2quad[fact[2]]:\n",
    "            for fact2 in head2quad[tail[2]]:\n",
    "                trip = (relation,tail[1],fact2[1])\n",
    "                if trip in rules_3.keys():\n",
    "                    rules[tup]+=1\n",
    "                else:\n",
    "                    rules[tup] = 1"
   ]
  },
  {
   "cell_type": "code",
   "execution_count": 10,
   "metadata": {},
   "outputs": [],
   "source": [
    "# save rules\n",
    "import json\n",
    "json_file_path = 'rule1.json'\n",
    "json_file = open(json_file_path, mode='w')\n",
    "save_json_content = rules2\n",
    "json.dump(save_json_content, json_file, indent=4)"
   ]
  },
  {
   "cell_type": "code",
   "execution_count": null,
   "metadata": {},
   "outputs": [],
   "source": [
    "n=int(input())\n",
    "seq = []\n",
    "for c in range(n):\n",
    "    seq.append(int(input()))\n",
    "su = [2,3,5,7,11,13,17,19,23,29,31,37,41,43,47]\n",
    "for num in seq:\n",
    "    a = num\n",
    "    count_a = 0\n",
    "    while a!= 1:\n",
    "        for i,fac in enumerate(su):\n",
    "            if fac>num:\n",
    "                a/=su[i-1]\n",
    "                print(a)\n",
    "                break\n",
    "        \n",
    "        count_a+=1\n",
    "    print('kk')\n",
    "    b = num-1\n",
    "    count_b = 1\n",
    "    while b!= 1:\n",
    "        for i,fac in enumerate(su):\n",
    "            if fac>num:\n",
    "                b/=su[i-1]\n",
    "                break\n",
    "        \n",
    "        count_b+=1\n",
    "    print(max(a,b+1))\n",
    "\n",
    "3\n",
    "2\n",
    "10\n",
    "16\n",
    "\n",
    "1\n",
    "2\n",
    "3"
   ]
  }
 ],
 "metadata": {
  "kernelspec": {
   "display_name": "Python 3.7.7 ('base')",
   "language": "python",
   "name": "python3"
  },
  "language_info": {
   "codemirror_mode": {
    "name": "ipython",
    "version": 3
   },
   "file_extension": ".py",
   "mimetype": "text/x-python",
   "name": "python",
   "nbconvert_exporter": "python",
   "pygments_lexer": "ipython3",
   "version": "3.7.7"
  },
  "orig_nbformat": 4,
  "vscode": {
   "interpreter": {
    "hash": "f1ddffe1282d9b70df07397ef6c19a598a3c1d666336b8e15a8572dafe4ca848"
   }
  }
 },
 "nbformat": 4,
 "nbformat_minor": 2
}
